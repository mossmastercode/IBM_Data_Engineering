{
 "cells": [
  {
   "cell_type": "code",
   "execution_count": 32,
   "metadata": {},
   "outputs": [
    {
     "data": {
      "text/plain": [
       "('datasource.zip', <http.client.HTTPMessage at 0x1d9b9206e50>)"
      ]
     },
     "execution_count": 32,
     "metadata": {},
     "output_type": "execute_result"
    }
   ],
   "source": [
    "# Import urlib to download the required file from given website\n",
    "import urllib.request\n",
    "url = 'https://cf-courses-data.s3.us.cloud-object-storage.appdomain.cloud/IBMDeveloperSkillsNetwork-PY0221EN-SkillsNetwork/labs/module%206/Lab%20-%20Extract%20Transform%20Load/data/datasource.zip'\n",
    "\n",
    "file_Path = 'datasource.zip'\n",
    "urllib.request.urlretrieve(url, file_Path) # download the file from the url given"
   ]
  },
  {
   "cell_type": "code",
   "execution_count": 33,
   "metadata": {},
   "outputs": [],
   "source": [
    "log_file = \"log_file.txt\"\n",
    "target_file=transformed_data=\"transformed_car_data.csv\" # we save our final output with the stated name at the end of our program\n"
   ]
  },
  {
   "cell_type": "code",
   "execution_count": 34,
   "metadata": {},
   "outputs": [],
   "source": [
    "# Extract all file types from the given file: csv, json, and xml are possible file types\n",
    "# First we extract csv files\n",
    "import glob\n",
    "import pandas as pd\n",
    "import xml.etree.ElementTree as ET\n",
    "from datetime import datetime\n",
    "#=============================\n",
    "def extract_from_csv(file_to_process):\n",
    "    dataframe=pd.read_csv(\"used_car_prices1.csv\") # read the csv file \n",
    "    return dataframe\n",
    "# Extract json files\n",
    "def extract_from_json(file_to_process):\n",
    "    dataframe=pd.read_json(file_to_process)\n",
    "    return dataframe\n",
    "# Extract xml files\n",
    "def extract_from_xml(file_to_process):\n",
    "    dataframe=pd.DataFrame(columns=[\"car_model\",\"year_of_manufacture\",\"price\",\"fuel\"])\n",
    "    tree = ET.parse(\"used_car_prices1.xml\")\n",
    "    root = tree.getroot()\n",
    "    for car in root:\n",
    "        car_model = car.find(\"car_model\").text\n",
    "        year_of_manufacture=car.find(\"year_of_manufacture\").text\n",
    "        price = car.find(\"price\").text\n",
    "        fuel = car.find(\"fuel\").text\n",
    "    return dataframe\n",
    "#===========Extract all file types\n",
    "def extract():\n",
    "    extracted_data=pd.DataFrame(columns=['car_model,year_of_manufacture,price,fuel'])\n",
    "    #process CSV files\n",
    "    for csvfile in glob.glob(\"*.csv\"):\n",
    "        extracted_data=pd.concat([extracted_data,pd.DataFrame(extract_from_csv(csvfile))],ignore_index=True)\n",
    "    # process all json files\n",
    "    for jsonfile in glob.glob(\"*.josn\"):\n",
    "        extracted_data=pd.concat([extracted_data,pd.DataFrame(extract_from_json(jsonfile))],ignore_index=True)\n",
    "    # process All XML files\n",
    "    for xmlfile in glob.glob(\"*.xml\"):\n",
    "        extracted_data=pd.concat([extracted_data,pd.DataFrame(extract_from_xml(xmlfile))],ignore_index=True)\n",
    "    \n",
    "    return extracted_data"
   ]
  },
  {
   "cell_type": "code",
   "execution_count": 35,
   "metadata": {},
   "outputs": [],
   "source": [
    "# Transform data,so that the prices of the cars are rounded into 2 decimals\n",
    "# Transform data\n",
    "def transform(data):\n",
    "    data['price'] = round(data.price,2)\n",
    "\n",
    "    return data"
   ]
  },
  {
   "cell_type": "code",
   "execution_count": 36,
   "metadata": {},
   "outputs": [],
   "source": [
    "#Load the final output into CSV file\n",
    "\n",
    "def load_data(target_file,transformed_data):\n",
    "    transformed_data.to_csv(target_file)"
   ]
  },
  {
   "cell_type": "code",
   "execution_count": 37,
   "metadata": {},
   "outputs": [],
   "source": [
    "# Register Log for every operation in the file through time stamp\n",
    "# Register Log\n",
    "def log_progress(message):\n",
    "    timestamp_format = '%Y-%h-%d-%H:%M:%S' # Year-Monthname-Day-Hour-Minute-Second \n",
    "    now = datetime.now() # get current timestamp \n",
    "    timestamp = now.strftime(timestamp_format) \n",
    "    with open(log_file,\"a\") as f: \n",
    "        f.write(timestamp + ',' + message + '\\n')"
   ]
  },
  {
   "cell_type": "code",
   "execution_count": 39,
   "metadata": {},
   "outputs": [
    {
     "name": "stdout",
     "output_type": "stream",
     "text": [
      "Transformed Data\n",
      "   car_model,year_of_manufacture,price,fuel      car_model  \\\n",
      "0                                       NaN           ritz   \n",
      "1                                       NaN            sx4   \n",
      "2                                       NaN           ciaz   \n",
      "3                                       NaN        wagon r   \n",
      "4                                       NaN          swift   \n",
      "..                                      ...            ...   \n",
      "85                                      NaN  vitara brezza   \n",
      "86                                      NaN           ciaz   \n",
      "87                                      NaN        s cross   \n",
      "88                                      NaN           ciaz   \n",
      "89                                      NaN           ciaz   \n",
      "\n",
      "    year_of_manufacture     price    fuel  \n",
      "0                2014.0   5000.00  Petrol  \n",
      "1                2013.0   7089.55  Diesel  \n",
      "2                2017.0  10820.90  Petrol  \n",
      "3                2011.0   4253.73  Petrol  \n",
      "4                2014.0   6865.67  Diesel  \n",
      "..                  ...       ...     ...  \n",
      "85               2018.0  13805.97  Diesel  \n",
      "86               2015.0  10074.63  Petrol  \n",
      "87               2015.0   9701.49  Diesel  \n",
      "88               2016.0  13059.70  Diesel  \n",
      "89               2015.0  11119.40  Diesel  \n",
      "\n",
      "[90 rows x 5 columns]\n"
     ]
    }
   ],
   "source": [
    "# Log the initialization of the ETL process \n",
    "log_progress(\"ETL Job Started\") \n",
    " \n",
    "# Log the beginning of the Extraction process \n",
    "log_progress(\"Extract phase Started\") \n",
    "extracted_data = extract() \n",
    " \n",
    "# Log the completion of the Extraction process \n",
    "log_progress(\"Extract phase Ended\") \n",
    " \n",
    "# Log the beginning of the Transformation process \n",
    "log_progress(\"Transform phase Started\") \n",
    "transformed_data = transform(extracted_data) \n",
    "print(\"Transformed Data\") \n",
    "print(transformed_data) \n",
    " \n",
    "# Log the completion of the Transformation process \n",
    "log_progress(\"Transform phase Ended\") \n",
    " \n",
    "# Log the beginning of the Loading process \n",
    "log_progress(\"Load phase Started\") \n",
    "load_data(target_file,transformed_data) \n",
    " \n",
    "# Log the completion of the Loading process \n",
    "log_progress(\"Load phase Ended\") \n",
    " \n",
    "# Log the completion of the ETL process \n",
    "log_progress(\"ETL Job Ended\") "
   ]
  },
  {
   "cell_type": "code",
   "execution_count": null,
   "metadata": {},
   "outputs": [],
   "source": []
  }
 ],
 "metadata": {
  "kernelspec": {
   "display_name": "Python 3",
   "language": "python",
   "name": "python3"
  },
  "language_info": {
   "codemirror_mode": {
    "name": "ipython",
    "version": 3
   },
   "file_extension": ".py",
   "mimetype": "text/x-python",
   "name": "python",
   "nbconvert_exporter": "python",
   "pygments_lexer": "ipython3",
   "version": "3.8.3"
  }
 },
 "nbformat": 4,
 "nbformat_minor": 4
}
