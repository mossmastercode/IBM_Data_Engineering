{
 "cells": [
  {
   "cell_type": "code",
   "execution_count": 2,
   "metadata": {},
   "outputs": [
    {
     "name": "stderr",
     "output_type": "stream",
     "text": [
      "C:\\Users\\Dude\\anaconda3\\lib\\site-packages\\pandas\\core\\computation\\expressions.py:20: UserWarning: Pandas requires version '2.7.3' or newer of 'numexpr' (version '2.7.1' currently installed).\n",
      "  from pandas.core.computation.check import NUMEXPR_INSTALLED\n"
     ]
    }
   ],
   "source": [
    "import sqlite3\n",
    "import pandas as pd\n"
   ]
  },
  {
   "cell_type": "code",
   "execution_count": 5,
   "metadata": {},
   "outputs": [
    {
     "name": "stdout",
     "output_type": "stream",
     "text": [
      "Table is ready\n"
     ]
    }
   ],
   "source": [
    "# we create a database to load data from existing csv file\n",
    "conn=sqlite3.connect('STAFF.db')\n",
    "table_name=\"INSTRUCTOR\" # table name\n",
    "attribute_list=['ID','FNAME','LNAME','CITY','CCODE'] # list of columns\n",
    "file_path = 'INSTRUCTOR.csv'\n",
    "df = pd.read_csv(file_path, names = attribute_list) # change the csv file to dataframe\n",
    "df.to_sql(table_name, conn, if_exists = 'replace', index =False) # now we load the dataframe into table format\n",
    "print('Table is ready')"
   ]
  },
  {
   "cell_type": "code",
   "execution_count": 9,
   "metadata": {},
   "outputs": [
    {
     "name": "stdout",
     "output_type": "stream",
     "text": [
      "Instructors List:\n",
      "\n",
      "\n",
      "    ID    FNAME      LNAME      CITY CCODE\n",
      "0    1      Rav      Ahuja   TORONTO    CA\n",
      "1    2     Raul      Chong   Markham    CA\n",
      "2    3     Hima  Vasudevan   Chicago    US\n",
      "3    4     John     Thomas  Illinois    US\n",
      "4    5    Alice      James  Illinois    US\n",
      "5    6    Steve      Wells  Illinois    US\n",
      "6    7  Santosh      Kumar  Illinois    US\n",
      "7    8    Ahmed    Hussain  Illinois    US\n",
      "8    9    Nancy      Allen  Illinois    US\n",
      "9   10     Mary     Thomas  Illinois    US\n",
      "10  11  Bharath      Gupta  Illinois    US\n",
      "11  12   Andrea      Jones  Illinois    US\n",
      "12  13      Ann      Jacob  Illinois    US\n",
      "13  14     Amit      Kumar  NewDelhi    IN\n"
     ]
    }
   ],
   "source": [
    "# Query the table\n",
    "query_statement=f\"SELECT * FROM {table_name}\"\n",
    "query_output=pd.read_sql(query_statement,conn)\n",
    "#print(query_statement)\n",
    "print(\"Instructors List:\\n\\n\")\n",
    "print(query_output)"
   ]
  },
  {
   "cell_type": "code",
   "execution_count": 10,
   "metadata": {},
   "outputs": [
    {
     "name": "stdout",
     "output_type": "stream",
     "text": [
      "List of First Names:\n",
      "\n",
      "      FNAME\n",
      "0       Rav\n",
      "1      Raul\n",
      "2      Hima\n",
      "3      John\n",
      "4     Alice\n",
      "5     Steve\n",
      "6   Santosh\n",
      "7     Ahmed\n",
      "8     Nancy\n",
      "9      Mary\n",
      "10  Bharath\n",
      "11   Andrea\n",
      "12      Ann\n",
      "13     Amit\n"
     ]
    }
   ],
   "source": [
    "#Listing only FNAME from the table\n",
    "query_statement = f\"SELECT FNAME FROM {table_name}\"\n",
    "query_output = pd.read_sql(query_statement, conn)\n",
    "print(\"List of First Names:\\n\")\n",
    "print(query_output)"
   ]
  },
  {
   "cell_type": "code",
   "execution_count": 13,
   "metadata": {},
   "outputs": [
    {
     "name": "stdout",
     "output_type": "stream",
     "text": [
      "Number of Records in the Table\n",
      "\n",
      "   COUNT(*)\n",
      "0        14\n"
     ]
    }
   ],
   "source": [
    "# Viewing the total number of entries in the table\n",
    "query_statement = f\"SELECT COUNT(*) FROM {table_name}\"\n",
    "query_output = pd.read_sql(query_statement, conn)\n",
    "print('Number of Records in the Table\\n')\n",
    "print(query_output)"
   ]
  },
  {
   "cell_type": "code",
   "execution_count": 14,
   "metadata": {},
   "outputs": [],
   "source": [
    "# Now add another entry to the table\n",
    "data_dict = {'ID' : [100],\n",
    "            'FNAME' : ['John'],\n",
    "            'LNAME' : ['Doe'],\n",
    "            'CITY' : ['Paris'],\n",
    "            'CCODE' : ['FR']}\n",
    "data_append = pd.DataFrame(data_dict)"
   ]
  },
  {
   "cell_type": "code",
   "execution_count": 15,
   "metadata": {},
   "outputs": [
    {
     "name": "stdout",
     "output_type": "stream",
     "text": [
      "Data appended successfully\n"
     ]
    }
   ],
   "source": [
    "# Now append the created dictionary to the table\n",
    "data_append.to_sql(table_name, conn, if_exists = 'append', index =False)\n",
    "print('Data appended successfully')"
   ]
  },
  {
   "cell_type": "code",
   "execution_count": 16,
   "metadata": {},
   "outputs": [
    {
     "name": "stdout",
     "output_type": "stream",
     "text": [
      "Number of Records in the Table\n",
      "\n",
      "   COUNT(*)\n",
      "0        15\n"
     ]
    }
   ],
   "source": [
    "# Viewing the total number of entries in the table\n",
    "query_statement = f\"SELECT COUNT(*) FROM {table_name}\"\n",
    "query_output = pd.read_sql(query_statement, conn)\n",
    "print('Number of Records in the Table\\n')\n",
    "print(query_output)"
   ]
  },
  {
   "cell_type": "code",
   "execution_count": 17,
   "metadata": {},
   "outputs": [
    {
     "name": "stdout",
     "output_type": "stream",
     "text": [
      "Instructors List:\n",
      "\n",
      "\n",
      "     ID    FNAME      LNAME      CITY CCODE\n",
      "0     1      Rav      Ahuja   TORONTO    CA\n",
      "1     2     Raul      Chong   Markham    CA\n",
      "2     3     Hima  Vasudevan   Chicago    US\n",
      "3     4     John     Thomas  Illinois    US\n",
      "4     5    Alice      James  Illinois    US\n",
      "5     6    Steve      Wells  Illinois    US\n",
      "6     7  Santosh      Kumar  Illinois    US\n",
      "7     8    Ahmed    Hussain  Illinois    US\n",
      "8     9    Nancy      Allen  Illinois    US\n",
      "9    10     Mary     Thomas  Illinois    US\n",
      "10   11  Bharath      Gupta  Illinois    US\n",
      "11   12   Andrea      Jones  Illinois    US\n",
      "12   13      Ann      Jacob  Illinois    US\n",
      "13   14     Amit      Kumar  NewDelhi    IN\n",
      "14  100     John        Doe     Paris    FR\n"
     ]
    }
   ],
   "source": [
    "# Query the table\n",
    "query_statement=f\"SELECT * FROM {table_name}\"\n",
    "query_output=pd.read_sql(query_statement,conn)\n",
    "#print(query_statement)\n",
    "print(\"Instructors List:\\n\\n\")\n",
    "print(query_output)"
   ]
  },
  {
   "cell_type": "code",
   "execution_count": 21,
   "metadata": {},
   "outputs": [],
   "source": [
    "# Now add another entry to the table\n",
    "data_dict = {'ID' : [21],\n",
    "            'FNAME' : ['Mosisa'],\n",
    "            'LNAME' : ['Olana'],\n",
    "            'CITY' : ['New York'],\n",
    "            'CCODE' : ['NY']}\n",
    "data_append = pd.DataFrame(data_dict)"
   ]
  },
  {
   "cell_type": "code",
   "execution_count": 22,
   "metadata": {},
   "outputs": [
    {
     "name": "stdout",
     "output_type": "stream",
     "text": [
      "Data appended successfully\n"
     ]
    }
   ],
   "source": [
    "# Now append the created dictionary to the table\n",
    "data_append.to_sql(table_name, conn, if_exists = 'append', index =False)\n",
    "print('Data appended successfully')"
   ]
  },
  {
   "cell_type": "code",
   "execution_count": 23,
   "metadata": {},
   "outputs": [
    {
     "name": "stdout",
     "output_type": "stream",
     "text": [
      "Instructors List after update:\n",
      "\n",
      "\n",
      "     ID    FNAME      LNAME      CITY CCODE\n",
      "0     1      Rav      Ahuja   TORONTO    CA\n",
      "1     2     Raul      Chong   Markham    CA\n",
      "2     3     Hima  Vasudevan   Chicago    US\n",
      "3     4     John     Thomas  Illinois    US\n",
      "4     5    Alice      James  Illinois    US\n",
      "5     6    Steve      Wells  Illinois    US\n",
      "6     7  Santosh      Kumar  Illinois    US\n",
      "7     8    Ahmed    Hussain  Illinois    US\n",
      "8     9    Nancy      Allen  Illinois    US\n",
      "9    10     Mary     Thomas  Illinois    US\n",
      "10   11  Bharath      Gupta  Illinois    US\n",
      "11   12   Andrea      Jones  Illinois    US\n",
      "12   13      Ann      Jacob  Illinois    US\n",
      "13   14     Amit      Kumar  NewDelhi    IN\n",
      "14  100     John        Doe     Paris    FR\n",
      "15    1   Mosisa      Olana  New York    NY\n",
      "16   21   Mosisa      Olana  New York    NY\n"
     ]
    }
   ],
   "source": [
    "# Query the table\n",
    "query_statement=f\"SELECT * FROM {table_name}\"\n",
    "query_output=pd.read_sql(query_statement,conn)\n",
    "#print(query_statement)\n",
    "print(\"Instructors List after update:\\n\\n\")\n",
    "print(query_output)"
   ]
  },
  {
   "cell_type": "code",
   "execution_count": null,
   "metadata": {},
   "outputs": [],
   "source": []
  },
  {
   "cell_type": "code",
   "execution_count": null,
   "metadata": {},
   "outputs": [],
   "source": []
  }
 ],
 "metadata": {
  "kernelspec": {
   "display_name": "Python 3",
   "language": "python",
   "name": "python3"
  },
  "language_info": {
   "codemirror_mode": {
    "name": "ipython",
    "version": 3
   },
   "file_extension": ".py",
   "mimetype": "text/x-python",
   "name": "python",
   "nbconvert_exporter": "python",
   "pygments_lexer": "ipython3",
   "version": "3.8.3"
  }
 },
 "nbformat": 4,
 "nbformat_minor": 4
}
